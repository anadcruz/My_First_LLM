{
  "nbformat": 4,
  "nbformat_minor": 0,
  "metadata": {
    "colab": {
      "provenance": [],
      "authorship_tag": "ABX9TyM9n07kUQ4p7JhSEAd+Biw0",
      "include_colab_link": true
    },
    "kernelspec": {
      "name": "python3",
      "display_name": "Python 3"
    },
    "language_info": {
      "name": "python"
    }
  },
  "cells": [
    {
      "cell_type": "markdown",
      "metadata": {
        "id": "view-in-github",
        "colab_type": "text"
      },
      "source": [
        "<a href=\"https://colab.research.google.com/github/anadcruz/My_First_LLM/blob/main/Untitled1.ipynb\" target=\"_parent\"><img src=\"https://colab.research.google.com/assets/colab-badge.svg\" alt=\"Open In Colab\"/></a>"
      ]
    },
    {
      "cell_type": "markdown",
      "source": [
        "[texto do link](https://)"
      ],
      "metadata": {
        "id": "WsaWxE82hrWY"
      }
    },
    {
      "cell_type": "code",
      "execution_count": 1,
      "metadata": {
        "id": "HBJqsMGnhbUl"
      },
      "outputs": [],
      "source": [
        "\n",
        "!pip install -q -U google-generativeai\n"
      ]
    },
    {
      "cell_type": "code",
      "source": [
        "# Import the Python SDK\n",
        "import google.generativeai as genai\n",
        "\n",
        "from google.colab import userdata\n",
        "api_key = userdata.get(\"SECRET_KEY\")\n",
        "genai.configure(api_key=api_key)"
      ],
      "metadata": {
        "id": "6DM294OXiYYy"
      },
      "execution_count": 14,
      "outputs": []
    },
    {
      "cell_type": "markdown",
      "source": [
        "Listar os modelos disponíveis"
      ],
      "metadata": {
        "id": "tmNawI4sikNB"
      }
    },
    {
      "cell_type": "code",
      "source": [
        "for m in genai.list_models():\n",
        "  if'generateContent' in m.supported_generation_methods:\n",
        "    print(m.name)\n"
      ],
      "metadata": {
        "colab": {
          "base_uri": "https://localhost:8080/",
          "height": 139
        },
        "id": "X-HGPoS9i_d7",
        "outputId": "3192d98d-e3a2-46ce-8c87-00236aa3aa26"
      },
      "execution_count": 3,
      "outputs": [
        {
          "output_type": "stream",
          "name": "stdout",
          "text": [
            "models/gemini-1.0-pro\n",
            "models/gemini-1.0-pro-001\n",
            "models/gemini-1.0-pro-latest\n",
            "models/gemini-1.0-pro-vision-latest\n",
            "models/gemini-1.5-pro-latest\n",
            "models/gemini-pro\n",
            "models/gemini-pro-vision\n"
          ]
        }
      ]
    },
    {
      "cell_type": "code",
      "source": [
        "generation_config={\n",
        "    \"candidate_count\": 1,\n",
        "    \"temperature\": 0.5,\n",
        "}"
      ],
      "metadata": {
        "id": "8VDyJB-TlTjK"
      },
      "execution_count": 4,
      "outputs": []
    },
    {
      "cell_type": "code",
      "source": [
        "safety_settings = {\n",
        "    \"HARASSMENT\":\"BLOCK_NONE\",\n",
        "    \"HATE\":\"BLOCK_NONE\",\n",
        "    \"SEXUAL\":\"BLOCK_NONE\",\n",
        "    \"DANGEROUS\":\"BLOCK_NONE\",\n",
        "\n",
        "}"
      ],
      "metadata": {
        "id": "dC0N1Z7il98Q"
      },
      "execution_count": 5,
      "outputs": []
    },
    {
      "cell_type": "markdown",
      "source": [
        "INICIALIZANDO O MODELO:"
      ],
      "metadata": {
        "id": "naxvWMJsnbYH"
      }
    },
    {
      "cell_type": "code",
      "source": [
        "model = genai.GenerativeModel(model_name=\"gemini-1.0-pro\",\n",
        "                              generation_config=generation_config,\n",
        "                              safety_settings=safety_settings)"
      ],
      "metadata": {
        "id": "3QQ66JFNl8E6"
      },
      "execution_count": 6,
      "outputs": []
    },
    {
      "cell_type": "code",
      "source": [
        "response = model.generate_content(\"Write a story about a magic backpack.\")\n",
        "print(response.text)"
      ],
      "metadata": {
        "colab": {
          "base_uri": "https://localhost:8080/",
          "height": 297
        },
        "id": "1-fSTAyFKPvK",
        "outputId": "216c2e34-c5dd-460a-92ec-c0ca34b1ae21"
      },
      "execution_count": 7,
      "outputs": [
        {
          "output_type": "stream",
          "name": "stdout",
          "text": [
            "In the quaint town of Willow Creek, where secrets whispered through ancient trees, there lived an ordinary boy named Ethan. Little did he know that his life was about to take an extraordinary turn when he stumbled upon a hidden treasure in the attic of his grandmother's house.\n",
            "\n",
            "Nestled amidst dusty boxes and forgotten heirlooms, lay a leather backpack of an unusual design. Its surface shimmered with an ethereal glow, and intricate runes danced across its straps. Curiosity consumed Ethan, and with trembling hands, he reached out to touch it.\n",
            "\n",
            "As his fingers grazed the backpack, a surge of energy coursed through his body. To his astonishment, the runes lit up, casting a vibrant glow upon the room. In that instant, Ethan realized that this was no ordinary backpack; it was a vessel of untold power.\n",
            "\n",
            "With a newfound sense of wonder, Ethan ventured into the nearby forest, eager to explore the backpack's capabilities. As he unzipped the main compartment, a shimmering portal appeared before him. Curiosity got the better of him, and he stepped through into an unknown realm.\n",
            "\n",
            "He found himself in a world of vibrant colors and ethereal landscapes. Floating islands soared overhead, and gentle breezes carried the sweet scent of wildflowers. Ethan marveled at the wonders that unfolded before his eyes, but he knew he had to return home before his absence was noticed.\n",
            "\n",
            "As he stepped back through the portal, the backpack sealed shut, its runes dimming once more. Ethan returned to Willow Creek, his heart pounding with excitement. He had discovered a secret that would forever change his life.\n",
            "\n",
            "From that day forward, Ethan embarked on countless adventures with his magic backpack. He journeyed to distant lands, met extraordinary creatures, and learned the true meaning of courage and imagination. The backpack became his constant companion, a symbol of the boundless possibilities that lay within the ordinary.\n",
            "\n",
            "And so, the legend of Ethan and his magic backpack was passed down through generations, inspiring countless children to believe that even the most mundane objects can hold extraordinary secrets.\n"
          ]
        }
      ]
    },
    {
      "cell_type": "code",
      "source": [
        "chat = model.start_chat(history=[])"
      ],
      "metadata": {
        "id": "YFUZvHPjKzqN"
      },
      "execution_count": 9,
      "outputs": []
    },
    {
      "cell_type": "code",
      "source": [
        "prompt = input(\"Esperando prompt\")\n",
        "\n",
        "while prompt != \"fim\":\n",
        "  response = chat.send_message(prompt)\n",
        "  print(\"Resposta: \",response.text,\"\\n\")\n",
        "  prompt = input(\"Esperando prompt\")"
      ],
      "metadata": {
        "colab": {
          "base_uri": "https://localhost:8080/",
          "height": 139
        },
        "id": "UMKWI1uXLiMb",
        "outputId": "7c469bc8-d662-4fdf-8a4a-fa1ad9a9e9b4"
      },
      "execution_count": 11,
      "outputs": [
        {
          "name": "stdout",
          "output_type": "stream",
          "text": [
            "Esperando promptqual a capital do japão?\n",
            "Resposta:  Tóquio \n",
            "\n",
            "Esperando promptqual a comida típica desse país?\n",
            "Resposta:  Sushi \n",
            "\n",
            "Esperando promptfim\n"
          ]
        }
      ]
    },
    {
      "cell_type": "code",
      "source": [
        "chat.history"
      ],
      "metadata": {
        "colab": {
          "base_uri": "https://localhost:8080/"
        },
        "id": "E9rWbKecN-q9",
        "outputId": "1b39af67-78e0-483c-ecc0-d1bc6fcb4f51"
      },
      "execution_count": 12,
      "outputs": [
        {
          "output_type": "execute_result",
          "data": {
            "text/plain": [
              "[parts {\n",
              "   text: \"qual a capital do jap\\303\\243o?\"\n",
              " }\n",
              " role: \"user\",\n",
              " parts {\n",
              "   text: \"T\\303\\263quio\"\n",
              " }\n",
              " role: \"model\",\n",
              " parts {\n",
              "   text: \"qual a comida t\\303\\255pica desse pa\\303\\255s?\"\n",
              " }\n",
              " role: \"user\",\n",
              " parts {\n",
              "   text: \"Sushi\"\n",
              " }\n",
              " role: \"model\"]"
            ]
          },
          "metadata": {},
          "execution_count": 12
        }
      ]
    },
    {
      "cell_type": "code",
      "source": [
        "#Melhorando a visualização\n",
        "#Código disponível em https://ai.google.dev/tutorials/python_quickstart#import_packages\n",
        "import textwrap\n",
        "from IPython.display import display\n",
        "from IPython.display import Markdown\n",
        "\n",
        "def to_markdown(text):\n",
        "  text = text.replace('•', '  *')\n",
        "  return Markdown(textwrap.indent(text, '> ', predicate=lambda _: True))\n",
        "\n",
        "#Imprimindo o histórico\n",
        "for message in chat.history:\n",
        "  display(to_markdown(f'**{message.role}**: {message.parts[0].text}'))\n",
        "  print('-------------------------------------------')"
      ],
      "metadata": {
        "colab": {
          "base_uri": "https://localhost:8080/",
          "height": 268
        },
        "id": "9qfKuxplNnxE",
        "outputId": "b70a2500-af84-4904-f6d4-390e7891ba5b"
      },
      "execution_count": 13,
      "outputs": [
        {
          "output_type": "display_data",
          "data": {
            "text/plain": [
              "<IPython.core.display.Markdown object>"
            ],
            "text/markdown": "> **user**: qual a capital do japão?"
          },
          "metadata": {}
        },
        {
          "output_type": "stream",
          "name": "stdout",
          "text": [
            "-------------------------------------------\n"
          ]
        },
        {
          "output_type": "display_data",
          "data": {
            "text/plain": [
              "<IPython.core.display.Markdown object>"
            ],
            "text/markdown": "> **model**: Tóquio"
          },
          "metadata": {}
        },
        {
          "output_type": "stream",
          "name": "stdout",
          "text": [
            "-------------------------------------------\n"
          ]
        },
        {
          "output_type": "display_data",
          "data": {
            "text/plain": [
              "<IPython.core.display.Markdown object>"
            ],
            "text/markdown": "> **user**: qual a comida típica desse país?"
          },
          "metadata": {}
        },
        {
          "output_type": "stream",
          "name": "stdout",
          "text": [
            "-------------------------------------------\n"
          ]
        },
        {
          "output_type": "display_data",
          "data": {
            "text/plain": [
              "<IPython.core.display.Markdown object>"
            ],
            "text/markdown": "> **model**: Sushi"
          },
          "metadata": {}
        },
        {
          "output_type": "stream",
          "name": "stdout",
          "text": [
            "-------------------------------------------\n"
          ]
        }
      ]
    }
  ]
}